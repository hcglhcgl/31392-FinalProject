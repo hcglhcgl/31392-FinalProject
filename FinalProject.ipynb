{
 "cells": [
  {
   "cell_type": "markdown",
   "metadata": {},
   "source": [
    "You are provided with: \n",
    "• Two datasets that contain:\n",
    "o Raw stereo pair images (uncalibrated, unrectified) of objects on a conveyor.\n",
    "o Raw stereo pair images (uncalibrated, unrectified) of objects on a conveyor\n",
    "with occlusion.\n",
    "Both datasets include multiple images of objects as they travel on the conveyor. \n",
    "The datasets contain images of 3 objects classes (cups, books and boxes). \n",
    "• Calibration pattern images for the used stereo camera camera.\n",
    "\n",
    "Project Goals \n",
    "• Calibrate and rectify the stereo input.\n",
    "• Process the input images to detect objects on the conveyor and track them in 3D, even\n",
    "under occlusions.\n",
    "• Train a machine learning system that can classify unseen images into the 3 classes\n",
    "(cups, books and boxes) based either on 2D or 3D data.\n",
    "o Use the web or/and capture your own images to create your training set. The\n",
    "image datasets provided with the project will constitute your testing set.git"
   ]
  },
  {
   "cell_type": "code",
   "execution_count": null,
   "metadata": {},
   "outputs": [
    {
     "name": "stdout",
     "output_type": "stream",
     "text": [
      "Hello world\n"
     ]
    }
   ],
   "source": [
    "print (\"Hello world\")"
   ]
  },
  {
   "cell_type": "code",
   "execution_count": null,
   "metadata": {},
   "outputs": [],
   "source": []
  }
 ],
 "metadata": {
  "kernelspec": {
   "display_name": "Python 3 (ipykernel)",
   "language": "python",
   "name": "python3"
  },
  "language_info": {
   "codemirror_mode": {
    "name": "ipython",
    "version": 3
   },
   "file_extension": ".py",
   "mimetype": "text/x-python",
   "name": "python",
   "nbconvert_exporter": "python",
   "pygments_lexer": "ipython3",
   "version": "3.8.8"
  }
 },
 "nbformat": 4,
 "nbformat_minor": 4
}
