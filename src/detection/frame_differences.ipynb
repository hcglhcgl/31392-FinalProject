{
 "cells": [
  {
   "cell_type": "code",
   "execution_count": 1,
   "metadata": {
    "pycharm": {
     "is_executing": true,
     "name": "#%%\n"
    }
   },
   "outputs": [
    {
     "name": "stdout",
     "output_type": "stream",
     "text": [
      "Image similarity 0.9691248866792118\n"
     ]
    },
    {
     "data": {
      "text/plain": [
       "13"
      ]
     },
     "execution_count": 1,
     "metadata": {},
     "output_type": "execute_result"
    }
   ],
   "source": [
    "from skimage.metrics import structural_similarity\n",
    "import cv2\n",
    "import numpy as np\n",
    "\n",
    "before = cv2.imread('../../rectified_images/left/0.png')\n",
    "after = cv2.imread('../../rectified_images/left/1068.png')\n",
    "\n",
    "\n",
    "# Convert images to grayscale\n",
    "before_gray = cv2.cvtColor(before, cv2.COLOR_BGR2GRAY)\n",
    "after_gray = cv2.cvtColor(after, cv2.COLOR_BGR2GRAY)\n",
    "\n",
    "before_gray = cv2.blur(before_gray, (10,10))\n",
    "after_gray = cv2.blur(after_gray, (10,10))\n",
    "# Compute SSIM between two images\n",
    "(score, diff) = structural_similarity(before_gray, after_gray, full=True)\n",
    "print(\"Image similarity\", score)\n",
    "\n",
    "# The diff image contains the actual image differences between the two images\n",
    "# and is represented as a floating point data type in the range [0,1]\n",
    "# so we must convert the array to 8-bit unsigned integers in the range\n",
    "# [0,255] before we can use it with OpenCV\n",
    "diff = (diff * 255).astype(\"uint8\")\n",
    "\n",
    "# Threshold the difference image, followed by finding contours to\n",
    "# obtain the regions of the two input images that differ\n",
    "thresh = cv2.threshold(diff, 0, 255, cv2.THRESH_BINARY_INV | cv2.THRESH_OTSU)[1]\n",
    "contours = cv2.findContours(thresh.copy(), cv2.RETR_EXTERNAL, cv2.CHAIN_APPROX_SIMPLE)\n",
    "contours = contours[0] if len(contours) == 2 else contours[1]\n",
    "\n",
    "mask = np.zeros(before.shape, dtype='uint8')\n",
    "filled_after = after.copy()\n",
    "\n",
    "for c in contours:\n",
    "    area = cv2.contourArea(c)\n",
    "    if area > 2000:\n",
    "        x,y,w,h = cv2.boundingRect(c)\n",
    "        cv2.rectangle(before, (x, y), (x + w, y + h), (36,255,12), 2)\n",
    "        cv2.rectangle(after, (x, y), (x + w, y + h), (36,255,12), 2)\n",
    "        cv2.drawContours(mask, [c], 0, (0,255,0), -1)\n",
    "        cv2.drawContours(filled_after, [c], 0, (0,255,0), -1)\n",
    "\n",
    "cv2.imshow('before', before)\n",
    "cv2.imshow('after', after)\n",
    "cv2.imshow('diff',diff)\n",
    "cv2.imshow('mask',mask)\n",
    "cv2.imshow('filled after',filled_after)\n",
    "cv2.waitKey(0)\n",
    "cv2.destroyAllWindows"
   ]
  }
 ],
 "metadata": {
  "kernelspec": {
   "display_name": "Python 3 (ipykernel)",
   "language": "python",
   "name": "python3"
  },
  "language_info": {
   "codemirror_mode": {
    "name": "ipython",
    "version": 3
   },
   "file_extension": ".py",
   "mimetype": "text/x-python",
   "name": "python",
   "nbconvert_exporter": "python",
   "pygments_lexer": "ipython3",
   "version": "3.8.8"
  }
 },
 "nbformat": 4,
 "nbformat_minor": 1
}
