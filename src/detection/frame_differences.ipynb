{
 "cells": [
  {
   "cell_type": "code",
   "execution_count": 2,
   "metadata": {
    "pycharm": {
     "is_executing": true,
     "name": "#%%\n"
    }
   },
   "outputs": [],
   "source": [
    "def crop_right(img):\n",
    "    # draw filled rectangle in white on black background as mask\n",
    "    mask = np.zeros_like(img)\n",
    "    mask = cv2.rectangle(mask,(240,300),(1186,700),(255,255,255),-1)\n",
    "    # apply mask to image\n",
    "    result = cv2.bitwise_and(img, mask)\n",
    "    return result\n",
    "\n",
    "def crop_left(img):\n",
    "    # draw filled rectangle in white on black background as mask\n",
    "    mask = np.zeros_like(img)\n",
    "    mask = cv2.rectangle(mask,(360,230),(1273,684),(255,255,255),-1)\n",
    "    # apply mask to image\n",
    "    result = cv2.bitwise_and(img, mask)\n",
    "    return result\n"
   ]
  },
  {
   "cell_type": "code",
   "execution_count": 3,
   "metadata": {},
   "outputs": [
    {
     "name": "stdout",
     "output_type": "stream",
     "text": [
      "Image similarity 0.9691248866792118\n"
     ]
    },
    {
     "data": {
      "text/plain": [
       "13"
      ]
     },
     "execution_count": 3,
     "metadata": {},
     "output_type": "execute_result"
    }
   ],
   "source": [
    "from skimage.metrics import structural_similarity\n",
    "import cv2\n",
    "import numpy as np\n",
    "\n",
    "before = cv2.imread('../../rectified_images/left/0.png')\n",
    "after = cv2.imread('../../rectified_images/left/1068.png')\n",
    "\n",
    "\n",
    "# Convert images to grayscale\n",
    "before_gray = cv2.cvtColor(left_first_cropped, cv2.COLOR_BGR2GRAY)\n",
    "after_gray = cv2.cvtColor(after_cropped, cv2.COLOR_BGR2GRAY)\n",
    "\n",
    "before_gray = cv2.blur(before_gray, (10,10))\n",
    "after_gray = cv2.blur(after_gray, (10,10))\n",
    "# Compute SSIM between two images\n",
    "(score, diff) = structural_similarity(before_gray, after_gray, full=True)\n",
    "print(\"Image similarity\", score)\n",
    "\n",
    "# The diff image contains the actual image differences between the two images\n",
    "# and is represented as a floating point data type in the range [0,1]\n",
    "# so we must convert the array to 8-bit unsigned integers in the range\n",
    "# [0,255] before we can use it with OpenCV\n",
    "diff = (diff * 255).astype(\"uint8\")\n",
    "\n",
    "# Threshold the difference image, followed by finding contours to\n",
    "# obtain the regions of the two input images that differ\n",
    "thresh = cv2.threshold(diff, 0, 255, cv2.THRESH_BINARY_INV | cv2.THRESH_OTSU)[1]\n",
    "contours = cv2.findContours(thresh.copy(), cv2.RETR_EXTERNAL, cv2.CHAIN_APPROX_SIMPLE)\n",
    "contours = contours[0] if len(contours) == 2 else contours[1]\n",
    "\n",
    "mask = np.zeros(left_first_cropped.shape, dtype='uint8')\n",
    "filled_after = after_cropped.copy()\n",
    "\n",
    "for c in contours:\n",
    "    area = cv2.contourArea(c)\n",
    "    if area > 2000:\n",
    "        x,y,w,h = cv2.boundingRect(c)\n",
    "        cv2.rectangle(left_first_cropped, (x, y), (x + w, y + h), (36,255,12), 2)\n",
    "        cv2.rectangle(after_cropped, (x, y), (x + w, y + h), (36,255,12), 2)\n",
    "        cv2.drawContours(mask, [c], 0, (0,255,0), -1)\n",
    "        cv2.drawContours(filled_after, [c], 0, (0,255,0), -1)\n",
    "\n",
    "cv2.imshow('before', left_first_cropped)\n",
    "cv2.imshow('after', after_cropped)\n",
    "cv2.imshow('diff',diff)\n",
    "cv2.imshow('mask',mask)\n",
    "cv2.imshow('filled after',filled_after)\n",
    "cv2.waitKey(0)\n",
    "cv2.destroyAllWindows"
   ]
  },
  {
   "cell_type": "code",
   "execution_count": 7,
   "metadata": {},
   "outputs": [
    {
     "name": "stdout",
     "output_type": "stream",
     "text": [
      "224   326\n",
      "1191   593\n"
     ]
    }
   ],
   "source": [
    "# importing the module\n",
    "import cv2\n",
    "\n",
    "# function to display the coordinates of\n",
    "# of the points clicked on the image\n",
    "def click_event(event, x, y, flags, params):\n",
    "\n",
    "\t# checking for left mouse clicks\n",
    "\tif event == cv2.EVENT_LBUTTONDOWN:\n",
    "\n",
    "\t\t# displaying the coordinates\n",
    "\t\t# on the Shell\n",
    "\t\tprint(x, ' ', y)\n",
    "\n",
    "\t\t# displaying the coordinates\n",
    "\t\t# on the image window\n",
    "\t\tfont = cv2.FONT_HERSHEY_SIMPLEX\n",
    "\t\tcv2.putText(img, str(x) + ',' +\n",
    "\t\t\t\t\tstr(y), (x,y), font,\n",
    "\t\t\t\t\t1, (255, 0, 0), 2)\n",
    "\t\tcv2.imshow('image', img)\n",
    "\n",
    "\t# checking for right mouse clicks\t\n",
    "\tif event==cv2.EVENT_RBUTTONDOWN:\n",
    "\n",
    "\t\t# displaying the coordinates\n",
    "\t\t# on the Shell\n",
    "\t\tprint(x, ' ', y)\n",
    "\n",
    "\t\t# displaying the coordinates\n",
    "\t\t# on the image window\n",
    "\t\tfont = cv2.FONT_HERSHEY_SIMPLEX\n",
    "\t\tb = img[y, x, 0]\n",
    "\t\tg = img[y, x, 1]\n",
    "\t\tr = img[y, x, 2]\n",
    "\t\tcv2.putText(img, str(b) + ',' +\n",
    "\t\t\t\t\tstr(g) + ',' + str(r),\n",
    "\t\t\t\t\t(x,y), font, 1,\n",
    "\t\t\t\t\t(255, 255, 0), 2)\n",
    "\t\tcv2.imshow('image', img)\n",
    "\n",
    "# driver function\n",
    "if __name__==\"__main__\":\n",
    "\n",
    "\t# reading the image\n",
    "\timg = cv2.imread('../../rectified_images/right/0.png', 1)\n",
    "\n",
    "\t# displaying the image\n",
    "\tcv2.imshow('image', img)\n",
    "\n",
    "\t# setting mouse handler for the image\n",
    "\t# and calling the click_event() function\n",
    "\tcv2.setMouseCallback('image', click_event)\n",
    "\n",
    "\t# wait for a key to be pressed to exit\n",
    "\tcv2.waitKey(0)\n",
    "\n",
    "\t# close the window\n",
    "\tcv2.destroyAllWindows()\n"
   ]
  },
  {
   "cell_type": "code",
   "execution_count": 5,
   "metadata": {},
   "outputs": [],
   "source": [
    "def crop_rect(img, rect):\n",
    "    # get the parameter of the small rectangle\n",
    "    center, size, angle = rect[0], rect[1], rect[2]\n",
    "    center, size = tuple(map(int, center)), tuple(map(int, size))\n",
    "\n",
    "    # get row and col num in img\n",
    "    height, width = img.shape[0], img.shape[1]\n",
    "\n",
    "    # calculate the rotation matrix\n",
    "    M = cv2.getRotationMatrix2D(center, angle, 1)\n",
    "    # rotate the original image\n",
    "    img_rot = cv2.warpAffine(img, M, (width, height))\n",
    "\n",
    "    # now rotated rectangle becomes vertical, and we crop it\n",
    "    img_crop = cv2.getRectSubPix(img_rot, size, center)\n",
    "\n",
    "    return img_crop, img_rot"
   ]
  },
  {
   "cell_type": "code",
   "execution_count": 13,
   "metadata": {},
   "outputs": [],
   "source": [
    "import cv2\n",
    "import numpy as np\n",
    "\n",
    "# read image\n",
    "img = cv2.imread('../../rectified_images/right/0.png')\n",
    "\n",
    "# draw filled circle in white on black background as mask\n",
    "mask = np.zeros_like(img)\n",
    "#for left first image\n",
    "#mask = cv2.rectangle(mask,(360,290),(1273,684),(255,255,255),-1)\n",
    "#for right first image\n",
    "mask = cv2.rectangle(mask,(240,300),(1186,700),(255,255,255),-1)\n",
    "# apply mask to image\n",
    "result = cv2.bitwise_and(img, mask)\n",
    "\n",
    "# save results\n",
    "cv2.imwrite('jeep_mask.png', mask)\n",
    "cv2.imwrite('jeep_masked.png', result)\n",
    "\n",
    "cv2.imshow('masked image', result)\n",
    "cv2.waitKey(0)\n",
    "cv2.destroyAllWindows()"
   ]
  }
 ],
 "metadata": {
  "kernelspec": {
   "display_name": "Python 3 (ipykernel)",
   "language": "python",
   "name": "python3"
  },
  "language_info": {
   "codemirror_mode": {
    "name": "ipython",
    "version": 3
   },
   "file_extension": ".py",
   "mimetype": "text/x-python",
   "name": "python",
   "nbconvert_exporter": "python",
   "pygments_lexer": "ipython3",
   "version": "3.8.8"
  }
 },
 "nbformat": 4,
 "nbformat_minor": 1
}
