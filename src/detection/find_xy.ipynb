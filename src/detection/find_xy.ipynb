{
 "cells": [
  {
   "cell_type": "code",
   "execution_count": 1,
   "id": "689d016c-6699-49a1-900d-289bc5761e82",
   "metadata": {
    "tags": []
   },
   "outputs": [
    {
     "name": "stdout",
     "output_type": "stream",
     "text": [
      "95   406\n",
      "311   152\n",
      "423   357\n",
      "745   276\n",
      "686   479\n",
      "1166   185\n",
      "1059   505\n",
      "1008   327\n",
      "958   126\n",
      "631   34\n",
      "1252   5\n"
     ]
    }
   ],
   "source": [
    "# importing the module\n",
    "import cv2\n",
    "\n",
    "# function to display the coordinates of\n",
    "# of the points clicked on the image\n",
    "def click_event(event, x, y, flags, params):\n",
    "\n",
    "    # checking for left mouse clicks\n",
    "    if event == cv2.EVENT_LBUTTONDOWN:\n",
    "\n",
    "        # displaying the coordinates\n",
    "        # on the Shell\n",
    "        print(x, ' ', y)\n",
    "\n",
    "        # displaying the coordinates\n",
    "        # on the image window\n",
    "        font = cv2.FONT_HERSHEY_SIMPLEX\n",
    "        cv2.putText(img, str(x) + ',' +\n",
    "                    str(y), (x,y), font,\n",
    "                    1, (255, 0, 0), 2)\n",
    "        cv2.imshow('image', img)\n",
    "\n",
    "    # checking for right mouse clicks\t\n",
    "    if event==cv2.EVENT_RBUTTONDOWN:\n",
    "\n",
    "        # displaying the coordinates\n",
    "        # on the Shell\n",
    "        print(x, ' ', y)\n",
    "\n",
    "        # displaying the coordinates\n",
    "        # on the image window\n",
    "        font = cv2.FONT_HERSHEY_SIMPLEX\n",
    "        b = img[y, x, 0]\n",
    "        g = img[y, x, 1]\n",
    "        r = img[y, x, 2]\n",
    "        cv2.putText(img, str(b) + ',' +\n",
    "                    str(g) + ',' + str(r),\n",
    "                    (x,y), font, 1,\n",
    "                    (255, 255, 0), 2)\n",
    "        cv2.imshow('image', img)\n",
    "\n",
    "# driver function\n",
    "if __name__==\"__main__\":\n",
    "\n",
    "    # reading the image\n",
    "    img = cv2.imread('../../rectified_images/right/0.png', 1)\n",
    "\n",
    "    # displaying the image\n",
    "    cv2.imshow('image', img)\n",
    "\n",
    "    # setting mouse handler for the image\n",
    "    # and calling the click_event() function\n",
    "    cv2.setMouseCallback('image', click_event)\n",
    "\n",
    "    # wait for a key to be pressed to exit\n",
    "    cv2.waitKey(0)\n",
    "\n",
    "    # close the window\n",
    "    cv2.destroyAllWindows()"
   ]
  }
 ],
 "metadata": {
  "kernelspec": {
   "display_name": "Python 3 (ipykernel)",
   "language": "python",
   "name": "python3"
  },
  "language_info": {
   "codemirror_mode": {
    "name": "ipython",
    "version": 3
   },
   "file_extension": ".py",
   "mimetype": "text/x-python",
   "name": "python",
   "nbconvert_exporter": "python",
   "pygments_lexer": "ipython3",
   "version": "3.8.8"
  }
 },
 "nbformat": 4,
 "nbformat_minor": 5
}
